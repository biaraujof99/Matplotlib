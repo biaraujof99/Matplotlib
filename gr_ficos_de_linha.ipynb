{
  "nbformat": 4,
  "nbformat_minor": 0,
  "metadata": {
    "colab": {
      "provenance": [],
      "authorship_tag": "ABX9TyPwU78xEVFkF3udAU5klNr+",
      "include_colab_link": true
    },
    "kernelspec": {
      "name": "python3",
      "display_name": "Python 3"
    },
    "language_info": {
      "name": "python"
    }
  },
  "cells": [
    {
      "cell_type": "markdown",
      "metadata": {
        "id": "view-in-github",
        "colab_type": "text"
      },
      "source": [
        "<a href=\"https://colab.research.google.com/github/biaraujof99/Matplotlib/blob/main/gr_ficos_de_linha.ipynb\" target=\"_parent\"><img src=\"https://colab.research.google.com/assets/colab-badge.svg\" alt=\"Open In Colab\"/></a>"
      ]
    },
    {
      "cell_type": "code",
      "execution_count": null,
      "metadata": {
        "id": "T1PG3te9ayNg"
      },
      "outputs": [],
      "source": [
        "#Criando gráficos de linha com a biblioteca Matplotlib\n",
        "#Beatriz Florencio de Araujo\n",
        "#biisaraujos@gmail.com"
      ]
    },
    {
      "cell_type": "code",
      "source": [
        "#Importando biblioteca"
      ],
      "metadata": {
        "id": "meVIMusBbtrl"
      },
      "execution_count": null,
      "outputs": []
    },
    {
      "cell_type": "code",
      "source": [
        "import numpy as np \n",
        "import matplotlib as plt\n"
      ],
      "metadata": {
        "id": "8CaTWPCQb2TW"
      },
      "execution_count": null,
      "outputs": []
    },
    {
      "cell_type": "code",
      "source": [
        "X = np. linspace (0,5,11)"
      ],
      "metadata": {
        "id": "wX-NYDdtcXPZ"
      },
      "execution_count": null,
      "outputs": []
    },
    {
      "cell_type": "code",
      "source": [
        "Y = np. power(X-2,2.0)"
      ],
      "metadata": {
        "id": "FQLwCjPqc5-I"
      },
      "execution_count": null,
      "outputs": []
    },
    {
      "cell_type": "code",
      "source": [
        "Z = np.exp(X/2.0)"
      ],
      "metadata": {
        "id": "VdiTa3eXdMpp"
      },
      "execution_count": null,
      "outputs": []
    },
    {
      "cell_type": "code",
      "source": [
        "plt.plot(X,Y)\n",
        "plt.show()"
      ],
      "metadata": {
        "id": "zbJKCNuahlGr"
      },
      "execution_count": null,
      "outputs": []
    },
    {
      "cell_type": "code",
      "source": [
        "plt.plot(X,Y)\n",
        "plt.xlabel ('Eixo X')\n",
        "plt.ylabel ('Eixo Y')\n",
        "plt.show()"
      ],
      "metadata": {
        "id": "Qqjwcl0Ih_G6"
      },
      "execution_count": null,
      "outputs": []
    },
    {
      "cell_type": "code",
      "source": [
        "plt.plot(X,Y)\n",
        "plt.plot(X,Z)\n",
        "plt.xlabel ('Eixo X')\n",
        "plt.ylabel ('Eixo Y')\n",
        "plt.title ('Y(x), Z(X)')\n",
        "plt.show()"
      ],
      "metadata": {
        "id": "NaAUol-niMBk"
      },
      "execution_count": null,
      "outputs": []
    },
    {
      "cell_type": "code",
      "source": [
        "plt.plot(X,Y,color = 'black')\n",
        "plt.plot(X,Z,color = 'green')\n",
        "plt.xlabel('Eixo X')\n",
        "plt.ylabel('Eixo Y')\n",
        "plt.title('Y(X), Z(X)')\n",
        "plt.show()\n",
        "     \n"
      ],
      "metadata": {
        "id": "xajf0esUiN1u"
      },
      "execution_count": null,
      "outputs": []
    },
    {
      "cell_type": "code",
      "source": [
        "plt.plot(X,Y,color = 'black',label= 'Y(X)')\n",
        "plt.plot(X,Z,color = 'green',label= 'Z(X)')\n",
        "plt.xlabel('Eixo X')\n",
        "plt.ylabel('Eixo Y')\n",
        "plt.title('Y(X), Z(X)')\n",
        "plt.legend()\n",
        "plt.show()"
      ],
      "metadata": {
        "id": "OzPIwHe-iPzz"
      },
      "execution_count": null,
      "outputs": []
    }
  ]
}