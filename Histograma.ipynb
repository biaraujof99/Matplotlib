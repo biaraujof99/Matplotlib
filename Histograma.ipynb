{
  "nbformat": 4,
  "nbformat_minor": 0,
  "metadata": {
    "colab": {
      "provenance": [],
      "authorship_tag": "ABX9TyOP24wJ5k/Ax/xIpz0NuvwU",
      "include_colab_link": true
    },
    "kernelspec": {
      "name": "python3",
      "display_name": "Python 3"
    },
    "language_info": {
      "name": "python"
    }
  },
  "cells": [
    {
      "cell_type": "markdown",
      "metadata": {
        "id": "view-in-github",
        "colab_type": "text"
      },
      "source": [
        "<a href=\"https://colab.research.google.com/github/biaraujof99/Matplotlib/blob/main/Histograma.ipynb\" target=\"_parent\"><img src=\"https://colab.research.google.com/assets/colab-badge.svg\" alt=\"Open In Colab\"/></a>"
      ]
    },
    {
      "cell_type": "code",
      "execution_count": null,
      "metadata": {
        "id": "wAyzG32Nlp7A"
      },
      "outputs": [],
      "source": [
        "#Criando gráficos de histograma com biblioteca Matplotlib\n",
        "#Beatriz Florencio de Araujo"
      ]
    },
    {
      "cell_type": "code",
      "source": [
        "import numpy as np\n",
        "import matplotlib as plt "
      ],
      "metadata": {
        "id": "A2mAAqMUmDcz"
      },
      "execution_count": null,
      "outputs": []
    },
    {
      "cell_type": "code",
      "source": [
        "#Criando váriavel X com números aleatórios\n",
        "X = np.random.rand(2000)"
      ],
      "metadata": {
        "id": "HTNWWTi3mNUX"
      },
      "execution_count": null,
      "outputs": []
    },
    {
      "cell_type": "code",
      "source": [
        "#Criando histograma\n",
        "plt.hist(X)\n",
        "plt.xlabel('X')\n",
        "plt.ylabel('Contagem')\n",
        "plt.show()"
      ],
      "metadata": {
        "id": "ND_-pbR2mXvb"
      },
      "execution_count": null,
      "outputs": []
    }
  ]
}